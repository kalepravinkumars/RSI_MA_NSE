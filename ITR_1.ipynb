{
  "nbformat": 4,
  "nbformat_minor": 0,
  "metadata": {
    "colab": {
      "provenance": [],
      "authorship_tag": "ABX9TyM5CFakrUx2mORMD0+MtOUi",
      "include_colab_link": true
    },
    "kernelspec": {
      "name": "python3",
      "display_name": "Python 3"
    },
    "language_info": {
      "name": "python"
    }
  },
  "cells": [
    {
      "cell_type": "markdown",
      "metadata": {
        "id": "view-in-github",
        "colab_type": "text"
      },
      "source": [
        "<a href=\"https://colab.research.google.com/github/kalepravinkumars/RSI_MA_NSE/blob/ITR_1/ITR_1.ipynb\" target=\"_parent\"><img src=\"https://colab.research.google.com/assets/colab-badge.svg\" alt=\"Open In Colab\"/></a>"
      ]
    },
    {
      "cell_type": "code",
      "execution_count": null,
      "metadata": {
        "id": "ZxuAjBpSS1vN"
      },
      "outputs": [],
      "source": [
        "import pandas as pd\n",
        "import yfinance as yf\n",
        "\n",
        "def calculate_rsi(data, period=14):\n",
        "    delta = data.diff().dropna()\n",
        "    gains = delta.where(delta > 0, 0)\n",
        "    losses = -delta.where(delta < 0, 0)\n",
        "    avg_gain = gains.rolling(window=period).mean()\n",
        "    avg_loss = losses.rolling(window=period).mean()\n",
        "    rs = avg_gain / avg_loss\n",
        "    rsi = 100 - (100 / (1 + rs))\n",
        "    return rsi\n",
        "\n",
        "def calculate_ema(data, period):\n",
        "    return data.ewm(span=period).mean()\n",
        "\n",
        "# Fetch stock data from Yahoo Finance\n",
        "symbol = \"SBIN.NS\"  # Symbol for SBI stock on NSE\n",
        "stock_data = yf.download(symbol, start=\"2019-01-01\", end=\"2022-01-01\")\n",
        "\n",
        "# Calculate RSI\n",
        "stock_data['RSI'] = calculate_rsi(stock_data['Close'], period=13)\n",
        "\n",
        "# Calculate EMAs for stock data\n",
        "ema_periods = [13, 8, 13, 21, 34, 55, 89, 144, 233, 377, 610, 987]\n",
        "for period in ema_periods:\n",
        "    column_name = f'EMA_{period}'\n",
        "    stock_data[column_name] = calculate_ema(stock_data['Close'], period)\n",
        "\n",
        "# Calculate EMAs for RSI data\n",
        "rsi_ema_periods = [55, 35]\n",
        "for period in rsi_ema_periods:\n",
        "    column_name = f'RSI_EMA_{period}'\n",
        "    stock_data[column_name] = calculate_ema(stock_data['RSI'], period)\n",
        "\n",
        "# Fill missing values with 0\n",
        "stock_data.fillna(0, inplace=True)\n",
        "\n",
        "# Print the updated stock data\n",
        "stock_data.head()\n"
      ]
    }
  ]
}